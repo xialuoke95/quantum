{
 "cells": [
  {
   "cell_type": "code",
   "execution_count": 1,
   "id": "lyric-receipt",
   "metadata": {},
   "outputs": [],
   "source": [
    "from pyqpanda import *\n",
    "import numpy as np\n",
    "init(QMachineType.CPU)\n",
    "qubits = qAlloc_many(4)\n",
    "h = H(qubits[0])"
   ]
  },
  {
   "cell_type": "code",
   "execution_count": 2,
   "id": "touched-growth",
   "metadata": {},
   "outputs": [
    {
     "data": {
      "text/plain": [
       "<pyqpanda.pyQPanda.QGate at 0x7f76d4333930>"
      ]
     },
     "execution_count": 2,
     "metadata": {},
     "output_type": "execute_result"
    }
   ],
   "source": [
    "h"
   ]
  },
  {
   "cell_type": "code",
   "execution_count": null,
   "id": "exposed-compilation",
   "metadata": {},
   "outputs": [],
   "source": []
  }
 ],
 "metadata": {
  "kernelspec": {
   "display_name": "Python 3",
   "language": "python",
   "name": "python3"
  },
  "language_info": {
   "codemirror_mode": {
    "name": "ipython",
    "version": 3
   },
   "file_extension": ".py",
   "mimetype": "text/x-python",
   "name": "python",
   "nbconvert_exporter": "python",
   "pygments_lexer": "ipython3",
   "version": "3.7.8"
  }
 },
 "nbformat": 4,
 "nbformat_minor": 5
}
