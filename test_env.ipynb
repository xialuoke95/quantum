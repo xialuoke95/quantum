{
 "cells": [
  {
   "cell_type": "code",
   "execution_count": 1,
   "id": "herbal-broadcast",
   "metadata": {},
   "outputs": [
    {
     "name": "stdout",
     "output_type": "stream",
     "text": [
      "{'00': 507, '11': 493}\n"
     ]
    }
   ],
   "source": [
    "from pyqpanda import *\n",
    "\n",
    "init(QMachineType.CPU)\n",
    "prog = QProg()\n",
    "q = qAlloc_many(2)\n",
    "c = cAlloc_many(2)\n",
    "prog.insert(H(q[0]))\n",
    "prog.insert(CNOT(q[0],q[1]))\n",
    "prog.insert(measure_all(q,c))\n",
    "result = run_with_configuration(prog, cbit_list = c, shots = 1000)\n",
    "print(result)\n",
    "finalize()"
   ]
  },
  {
   "cell_type": "code",
   "execution_count": null,
   "id": "favorite-purchase",
   "metadata": {},
   "outputs": [],
   "source": []
  }
 ],
 "metadata": {
  "kernelspec": {
   "display_name": "Python 3",
   "language": "python",
   "name": "python3"
  },
  "language_info": {
   "codemirror_mode": {
    "name": "ipython",
    "version": 3
   },
   "file_extension": ".py",
   "mimetype": "text/x-python",
   "name": "python",
   "nbconvert_exporter": "python",
   "pygments_lexer": "ipython3",
   "version": "3.7.8"
  }
 },
 "nbformat": 4,
 "nbformat_minor": 5
}
